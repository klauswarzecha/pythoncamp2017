{
 "cells": [
  {
   "cell_type": "code",
   "execution_count": 2,
   "metadata": {
    "collapsed": false,
    "deletable": true,
    "editable": true
   },
   "outputs": [],
   "source": [
    "# Create fake jogging data for Alice\n",
    "\n",
    "import numpy as np\n",
    "import pandas as pd\n",
    "\n",
    "runs = 600\n",
    "\n",
    "pace = 8.5 # min/km\n",
    "\n",
    "dates = pd.date_range(start='2014-01-01', freq='D', periods=runs)\n",
    "distances = np.random.normal(loc=12, scale=3, size=runs).round(2)\n",
    "times = distances * pace\n",
    "times += np.random.uniform(-0.25, 0.25)\n",
    "times = times.round(2)\n",
    "\n",
    "alice = pd.DataFrame({'distance': distances,\n",
    "                      'minutes': times,\n",
    "                      'day': dates\n",
    "})\n",
    "\n",
    "alice.set_index('day', inplace=True)\n",
    "alice.to_csv('data/alice.csv')"
   ]
  }
 ],
 "metadata": {
  "kernelspec": {
   "display_name": "Python [conda root]",
   "language": "python",
   "name": "conda-root-py"
  },
  "language_info": {
   "codemirror_mode": {
    "name": "ipython",
    "version": 3
   },
   "file_extension": ".py",
   "mimetype": "text/x-python",
   "name": "python",
   "nbconvert_exporter": "python",
   "pygments_lexer": "ipython3",
   "version": "3.5.3"
  }
 },
 "nbformat": 4,
 "nbformat_minor": 2
}
